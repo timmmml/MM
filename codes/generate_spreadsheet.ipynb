{
 "cells": [
  {
   "cell_type": "code",
   "execution_count": 2,
   "id": "97eaf73e-ceef-49ed-a947-875a6b40a26d",
   "metadata": {},
   "outputs": [],
   "source": [
    "import numpy as np\n",
    "import pandas as pd"
   ]
  },
  {
   "cell_type": "code",
   "execution_count": 12,
   "id": "40e13d3b-c795-49e8-8524-685e085329be",
   "metadata": {},
   "outputs": [],
   "source": [
    "columns = ['display', 'Test image', 'left', 'right', 'work', 'worked', 'shirked', 'randomise_trials']\n",
    "N = 20\n",
    "ti = ['s0', 's1']\n",
    "wi = ['w0', 'w1']\n",
    "si = ['sh0', 'sh1']\n",
    "rw = ['wr0', 'wr1']\n",
    "rs = ['shr0', 'shr1']\n",
    "for i in [ti, wi, si, rw, rs]:\n",
    "    for j in range(2): \n",
    "        i[j] = i[j] + '.PNG'\n",
    "        \n",
    "w = ['right', 'left']\n",
    "rwd = [rw, rs]\n",
    "randomize = 1"
   ]
  },
  {
   "cell_type": "code",
   "execution_count": 3,
   "id": "24d86b07-5df1-4ce4-83ff-9e167f694076",
   "metadata": {},
   "outputs": [
    {
     "data": {
      "text/plain": [
       "['s0.PNG', 's1.PNG']"
      ]
     },
     "execution_count": 3,
     "metadata": {},
     "output_type": "execute_result"
    }
   ],
   "source": [
    "ti"
   ]
  },
  {
   "cell_type": "code",
   "execution_count": 13,
   "id": "516ed791-64ed-4fe5-9dcd-d222ee3130f8",
   "metadata": {},
   "outputs": [],
   "source": [
    "index = list(np.repeat(0, N/2))\n",
    "index.extend(list(np.repeat(1, N/2)))\n",
    "rng = np.random.default_rng()\n",
    "randorder = rng.choice(list(np.linspace(0, N-1, N, dtype = 'int')), N, 0)\n",
    "if randomize: \n",
    "    iu = []\n",
    "    for i in randorder: \n",
    "        iu.append(index[i])\n",
    "else: \n",
    "    iu = index"
   ]
  },
  {
   "cell_type": "code",
   "execution_count": 15,
   "id": "ddb45ee9-ca2c-4e7c-bd43-30055da22152",
   "metadata": {},
   "outputs": [],
   "source": [
    "D, T, L, R, W, We, Se, C =['intro', 'attention', 'attention', 'attention', 'attention', 'attention'], ['', '', '', '', '', ''],  ['', '', '', '', '', ''],  ['', '', '', '', '', ''],  ['', '', '', '', '', ''],  ['', '', '', '', '', ''],  ['', '', '', '', '', ''], ['', '', '', '', '', '']\n",
    "p = [0.5]\n",
    "r = [0, 1, 1, 1, 1, 1]\n",
    "for i in range(N): \n",
    "    D.append('trials')\n",
    "    T.append(ti[iu[i]])\n",
    "    p.append(0.5)\n",
    "    if iu[i] == 0: \n",
    "        L.append(0)\n",
    "        R.append(1)\n",
    "    else:\n",
    "        L.append(1)\n",
    "        R.append(0)\n",
    "    W.append(1)\n",
    "    We.append(wi[iu[i]])\n",
    "    Se.append(si[iu[i]])\n",
    "    C.append(0)\n",
    "    r.append(1)\n",
    "data = pd.DataFrame(np.transpose([D, T, L, R, W, We, Se, r]), columns = columns)\n",
    "emp = ['', '', '', '', '', '']\n",
    "\n",
    "emp.extend(list(np.repeat('1, 2, 3, 4, 5, 6, 7', N)))\n",
    "data['Likert'] = emp"
   ]
  },
  {
   "cell_type": "code",
   "execution_count": null,
   "id": "bfa327db-02f6-41f9-908c-6238cf221397",
   "metadata": {},
   "outputs": [],
   "source": []
  },
  {
   "cell_type": "code",
   "execution_count": 16,
   "id": "cd7010ae-5bf4-4ea7-92e7-258d74db2d54",
   "metadata": {},
   "outputs": [],
   "source": [
    "data.to_csv('../codes/sprdst1.csv')"
   ]
  },
  {
   "cell_type": "code",
   "execution_count": 19,
   "id": "06da6061-a558-4430-8981-7e71550a4e8b",
   "metadata": {},
   "outputs": [],
   "source": [
    "N = 6\n",
    "index = list(np.repeat(0, N/2))\n",
    "index.extend(list(np.repeat(1, N/2)))\n",
    "rng = np.random.default_rng()\n",
    "randorder = rng.choice(list(np.linspace(0, N-1, N, dtype = 'int')), N, 0)\n",
    "if randomize: \n",
    "    iu = []\n",
    "    for i in randorder: \n",
    "        iu.append(index[i])\n",
    "else: \n",
    "    iu = index\n",
    "D, T, L, R, W, We, Se, C =['intro', 'attention'], ['', ''],  ['', ''], ['', ''], ['', ''], ['', ''], ['', ''], ['', '']\n",
    "p = [0.5]\n",
    "r = [0, 1]\n",
    "for i in range(N): \n",
    "    D.append('trials')\n",
    "    T.append(ti[iu[i]])\n",
    "    p.append(0.5)\n",
    "    if iu[i] == 0: \n",
    "        L.append(0)\n",
    "        R.append(1)\n",
    "    else:\n",
    "        L.append(1)\n",
    "        R.append(0)\n",
    "    W.append(1)\n",
    "    We.append(wi[iu[i]])\n",
    "    Se.append(si[iu[i]])\n",
    "    C.append(0)\n",
    "    r.append(1)\n",
    "data = pd.DataFrame(np.transpose([D, T, L, R, W, We, Se, r]), columns = columns)\n",
    "emp = ['', '']\n",
    "\n",
    "emp.extend(list(np.repeat('1, 2, 3, 4, 5, 6, 7', N)))\n",
    "data['Likert'] = emp\n",
    "data.to_csv('../codes/sprdst_6_trials.csv')\n",
    "N = 80\n",
    "index = list(np.repeat(0, N/2))\n",
    "index.extend(list(np.repeat(1, N/2)))\n",
    "rng = np.random.default_rng()\n",
    "randorder = rng.choice(list(np.linspace(0, N-1, N, dtype = 'int')), N, 0)\n",
    "if randomize: \n",
    "    iu = []\n",
    "    for i in randorder: \n",
    "        iu.append(index[i])\n",
    "else: \n",
    "    iu = index\n",
    "D, T, L, R, W, We, Se, C =['intro', 'attention', 'attention', 'attention', 'attention', 'attention'], ['', '', '', '', '', ''],  ['', '', '', '', '', ''],  ['', '', '', '', '', ''],  ['', '', '', '', '', ''],  ['', '', '', '', '', ''],  ['', '', '', '', '', ''], ['', '', '', '', '', '']\n",
    "p = [0.5]\n",
    "r = [0, 1, 1, 1, 1, 1]\n",
    "for i in range(N): \n",
    "    D.append('trials')\n",
    "    T.append(ti[iu[i]])\n",
    "    p.append(0.5)\n",
    "    if iu[i] == 0: \n",
    "        L.append(0)\n",
    "        R.append(1)\n",
    "    else:\n",
    "        L.append(1)\n",
    "        R.append(0)\n",
    "    W.append(1)\n",
    "    We.append(wi[iu[i]])\n",
    "    Se.append(si[iu[i]])\n",
    "    C.append(0)\n",
    "    r.append(1)\n",
    "data = pd.DataFrame(np.transpose([D, T, L, R, W, We, Se, r]), columns = columns)\n",
    "emp = ['', '', '', '', '', '']\n",
    "\n",
    "emp.extend(list(np.repeat('1, 2, 3, 4, 5, 6, 7', N)))\n",
    "data['Likert'] = emp\n",
    "data.to_csv('../codes/sprdst_80_trials.csv')\n"
   ]
  },
  {
   "cell_type": "code",
   "execution_count": null,
   "id": "868acf4d-62ba-4815-81ed-08ae8a470b22",
   "metadata": {},
   "outputs": [],
   "source": []
  }
 ],
 "metadata": {
  "kernelspec": {
   "display_name": "Python 3 (ipykernel)",
   "language": "python",
   "name": "python3"
  },
  "language_info": {
   "codemirror_mode": {
    "name": "ipython",
    "version": 3
   },
   "file_extension": ".py",
   "mimetype": "text/x-python",
   "name": "python",
   "nbconvert_exporter": "python",
   "pygments_lexer": "ipython3",
   "version": "3.10.9"
  }
 },
 "nbformat": 4,
 "nbformat_minor": 5
}
